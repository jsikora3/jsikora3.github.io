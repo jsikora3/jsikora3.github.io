{
 "cells": [
  {
   "cell_type": "markdown",
   "metadata": {},
   "source": [
    "# Exploring Chicago Food Inspections: 2011-2019\n",
    "\n",
    "**Jennifer Sikora** <br>\n",
    "**IS590-DV** <br>\n",
    "**April 25, 2019**\n",
    "\n",
    "Welcome to the Jupyter Notebook by Jennifer Sikora, in which we will explore the Chicago Department of Public Health's Food Inspections dataset. Each row in the dataset represents a food inspection. According to the description PDF accompanying the data, \"This dataset contains information from inspections of restaurants and other food establishments in Chicago from January 1, 2010 to the present.\"\n",
    "\n",
    "Every year, the Chicago Department of Public Health conducts over thirteen thousand food inspections per year, across over four hundred facility types, including restaurants, day care centers, hospitals, mobile food dispensers, and taverns, to name a few. This dataset is updated every Friday.\n",
    "\n",
    "Please see the Resources section at the end of this document for the link to the full dataset. For the purposes of my visualizations, I have cleaned and paired down the dataset so it is more manageable. "
   ]
  },
  {
   "cell_type": "code",
   "execution_count": 2,
   "metadata": {},
   "outputs": [],
   "source": [
    "# Import libraries\n",
    "import pandas as pd\n",
    "import bqplot\n",
    "import numpy as np\n",
    "import matplotlib.pyplot as plt\n",
    "from IPython.display import display\n",
    "%matplotlib inline\n",
    "import traitlets\n",
    "import ipywidgets\n",
    "import collections"
   ]
  },
  {
   "cell_type": "code",
   "execution_count": 3,
   "metadata": {},
   "outputs": [],
   "source": [
    "# Importing the cleaned data:\n",
    "inspections = pd.read_csv(\"https://jsikora3.github.io/inspections-cleaned.csv\")"
   ]
  },
  {
   "cell_type": "code",
   "execution_count": 4,
   "metadata": {},
   "outputs": [],
   "source": [
    "# Importing the cleaned data for top 5 facility types; 2018 inspections only:\n",
    "inspections_top5_2018 = pd.read_csv(\"https://jsikora3.github.io/inspections_top5_2018.csv\")"
   ]
  },
  {
   "cell_type": "markdown",
   "metadata": {},
   "source": [
    "## Visualizing the Number of Food Inspections by Year\n",
    "\n",
    "### Exploring Counts\n",
    "\n",
    "I will first visualize the count of inspections by year. As you can see below, the number of food inspections by year has remained fairly steady. Since the dataset was downloaded at the end of March 2019, the number of food inspections for 2019 is far lower than previous years. Additionally, it is important to note that effective February 1, 2019, the City of Chicago implemented new requirements that all food service establishments must follow” (see https://www.chicago.gov/city/en/depts/cdph/provdrs/healthy_restaurants/svcs/food-protection-services.html for more information). \n",
    "\n",
    "Now, back to the visualizations: the first plot shows that there was a marked decline in the number of inspections conducted in 2018. Additionally, a greater percentage of those inspections were given a \"Passed With Conditions\" result. I do not know if the number of inspections fell in 2018, or perhaps the way the inspections were input into the database changed in 2018, resulting in the appearance that there were fewer inspections. The second plot shows that while the majority of the facilities do pass their inspections, there are still quite a few that passed with conditions or failed. "
   ]
  },
  {
   "cell_type": "code",
   "execution_count": 6,
   "metadata": {},
   "outputs": [
    {
     "data": {
      "text/plain": [
       "<matplotlib.legend.Legend at 0x11385add8>"
      ]
     },
     "execution_count": 6,
     "metadata": {},
     "output_type": "execute_result"
    },
    {
     "data": {
      "image/png": "[encoded data removed]",
      "text/plain": [
       "<Figure size 432x288 with 1 Axes>"
      ]
     },
     "metadata": {
      "needs_background": "light"
     },
     "output_type": "display_data"
    }
   ],
   "source": [
    "(inspections\n",
    " .groupby(['year', 'Results'])\n",
    " .size()\n",
    " .unstack()\n",
    " .plot.bar(stacked=True)\n",
    ")\n",
    "\n",
    "plt.xlabel(\"Year\")\n",
    "plt.ylabel(\"Number of Food Inspections by Results\")\n",
    "plt.title(\"Number of Food Inspections by Year and Results\")\n",
    "plt.legend(inspections[\"Results\"].unique(), loc='center left', bbox_to_anchor=(1, 0.5))"
   ]
  },
  {
   "cell_type": "markdown",
   "metadata": {},
   "source": [
    "### Exploring Inspection Types\n",
    "\n",
    "Although the dataset documentation lists only 7 inspection types, the dataset shows that there are many more inspection types listed. \n",
    "\n",
    "Here are the inspection types I expected to find in the dataset: \n",
    "\n",
    "* Canvass\n",
    "* Consultation\n",
    "* Complaint\n",
    "* License\n",
    "* Suspected Food Poisoning\n",
    "* Task Force Inspection\n",
    "* Re-Inspections\n",
    "\n",
    "Below you will see that there are actually 103 unique inspection types used in the data. Since this is an unruly number of inspection types to visualize, I narrowed down the options to the top 6 and plotted the inspection types by year (task force were excluded since the way they were entered into the dataset is not consistent). "
   ]
  },
  {
   "cell_type": "code",
   "execution_count": 7,
   "metadata": {},
   "outputs": [
    {
     "data": {
      "text/plain": [
       "103"
      ]
     },
     "execution_count": 7,
     "metadata": {},
     "output_type": "execute_result"
    }
   ],
   "source": [
    "inspections[\"Inspection Type\"].nunique() "
   ]
  },
  {
   "cell_type": "code",
   "execution_count": 8,
   "metadata": {},
   "outputs": [
    {
     "data": {
      "text/plain": [
       "Counter({'License': 22148,\n",
       "         'License Re-Inspection': 8421,\n",
       "         'Canvass Re-Inspection': 18869,\n",
       "         'Complaint': 16424,\n",
       "         'Canvass': 77651,\n",
       "         'Complaint Re-Inspection': 6896,\n",
       "         'Recent Inspection': 281,\n",
       "         'Suspected Food Poisoning': 815,\n",
       "         'Short Form Complaint': 6408,\n",
       "         'Suspected Food Poisoning Re-inspection': 185,\n",
       "         'Consultation': 656,\n",
       "         'Non-Inspection': 13,\n",
       "         'Recent inspection': 1,\n",
       "         'Special Events (Festivals)': 62,\n",
       "         'Tag Removal': 603,\n",
       "         nan: 1,\n",
       "         'Complaint-Fire Re-inspection': 43,\n",
       "         'Complaint-Fire': 154,\n",
       "         'Short Form Fire-Complaint': 104,\n",
       "         'License-Task Force': 603,\n",
       "         'CORRECTIVE ACTION': 1,\n",
       "         'OWNER SUSPENDED OPERATION/LICENSE': 1,\n",
       "         'LICENSE CONSULTATION': 2,\n",
       "         'License consultation': 1,\n",
       "         'Task Force Liquor 1475': 254,\n",
       "         'Package Liquor 1474': 44,\n",
       "         'Illegal Operation': 5,\n",
       "         'fire complaint': 1,\n",
       "         'Not Ready': 6,\n",
       "         'TWO PEOPLE ATE AND GOT SICK.': 1,\n",
       "         'Pre-License Consultation': 15,\n",
       "         'CANVASS SPECIAL EVENTS': 1,\n",
       "         'CANVASS SCHOOL/SPECIAL EVENT': 1,\n",
       "         'No entry': 1,\n",
       "         'NO ENTRY': 7,\n",
       "         '1315 license reinspection': 1,\n",
       "         'TASK FORCE LIQUOR 1470': 2,\n",
       "         'Sample Collection': 1,\n",
       "         'license task 1474': 1,\n",
       "         'SFP RECENTLY INSPECTED': 1,\n",
       "         'FIRE/COMPLAIN': 1,\n",
       "         'Task Force for liquor 1474': 1,\n",
       "         'ADDENDUM': 1,\n",
       "         'Task force liquor inspection 1474': 1,\n",
       "         'Task Force Liquor Catering': 1,\n",
       "         'SFP': 4,\n",
       "         'CANVAS': 1,\n",
       "         'no entry': 4,\n",
       "         'SFP/COMPLAINT': 4,\n",
       "         'TASK FORCE NIGHT': 1,\n",
       "         'SFP/Complaint': 1,\n",
       "         'expansion': 1,\n",
       "         'OUT OF BUSINESS': 8,\n",
       "         'SMOKING COMPLAINT': 1,\n",
       "         'TAVERN 1470': 1,\n",
       "         'LICENSE RENEWAL INSPECTION FOR DAYCARE': 1,\n",
       "         'LICENSE RENEWAL FOR DAYCARE': 2,\n",
       "         'CANVASS RE INSPECTION OF CLOSE UP': 1,\n",
       "         'TASKFORCE': 1,\n",
       "         'LICENSE TASK FORCE / NOT -FOR-PROFIT CLUB': 1,\n",
       "         'LICENSE TASK FORCE / NOT -FOR-PROFIT CLU': 1,\n",
       "         'LICENSE/NOT READY': 2,\n",
       "         'NO ENTRY-SHORT COMPLAINT)': 1,\n",
       "         'CITF': 1,\n",
       "         'KIDS CAFE': 1,\n",
       "         'LICENSE DAYCARE 1586': 1,\n",
       "         'task force(1470) liquor tavern': 1,\n",
       "         'LICENSE WRONG ADDRESS': 1,\n",
       "         'CHANGED COURT DATE': 1,\n",
       "         'LICENSE REQUEST': 4,\n",
       "         'error save': 1,\n",
       "         'CANVASS/SPECIAL EVENT': 1,\n",
       "         'DAY CARE LICENSE RENEWAL': 1,\n",
       "         'LIQUOR CATERING': 1,\n",
       "         'Summer Feeding': 1,\n",
       "         'TASK FORCE PACKAGE LIQUOR': 1,\n",
       "         'Out of Business': 279,\n",
       "         'No Entry': 60,\n",
       "         'citation re-issued': 1,\n",
       "         'TASTE OF CHICAGO': 1,\n",
       "         'LICENSE': 1,\n",
       "         'HACCP QUESTIONAIRE': 1,\n",
       "         'out ofbusiness': 1,\n",
       "         'CLOSE-UP/COMPLAINT REINSPECTION': 1,\n",
       "         'finish complaint inspection from 5-18-10': 1,\n",
       "         'Duplicated': 1,\n",
       "         'license': 1,\n",
       "         'sfp/complaint': 1,\n",
       "         'RECALL INSPECTION': 1,\n",
       "         'Special Task Force': 1,\n",
       "         'REINSPECTION OF 48 HOUR NOTICE': 2,\n",
       "         'REINSPECTION': 2,\n",
       "         'Business Not Located': 1,\n",
       "         'CANVASS FOR RIB FEST': 1,\n",
       "         'RE-INSPECTION OF CLOSE-UP': 1,\n",
       "         'task force': 2,\n",
       "         'TASK FORCE LIQUOR (1481)': 1,\n",
       "         'SPECIAL TASK FORCE': 2,\n",
       "         'LIQOUR TASK FORCE NOT READY': 1,\n",
       "         'TASK FORCE NOT READY': 1,\n",
       "         'POSSIBLE FBI': 1,\n",
       "         'TASK FORCE LIQUOR 1474': 2,\n",
       "         'Kids Cafe ': 1,\n",
       "         'TASK FORCE PACKAGE GOODS 1474': 1})"
      ]
     },
     "execution_count": 8,
     "metadata": {},
     "output_type": "execute_result"
    }
   ],
   "source": [
    "collections.Counter(inspections['Inspection Type'])"
   ]
  },
  {
   "cell_type": "code",
   "execution_count": 10,
   "metadata": {},
   "outputs": [],
   "source": [
    "# Narrow down inspection types included in the dataset:\n",
    "inspections2 = inspections[inspections[\"Inspection Type\"].isin([\"Canvass\", \n",
    "                                                   \"Consultation\", \n",
    "                                                   \"Complaint\",\n",
    "                                                  \"License\",\n",
    "                                                  \"Suspected Food Poisoning\",\n",
    "                                                  \"License Re-Inspection\",\n",
    "                                                 \"Canvass Re-Inspection\",\n",
    "                                                  \"Complaint Re-Inspection\",\n",
    "                                                    \"Suspected Food Poisoning Re-inspection\"])]"
   ]
  },
  {
   "cell_type": "code",
   "execution_count": 11,
   "metadata": {},
   "outputs": [
    {
     "data": {
      "text/plain": [
       "<matplotlib.legend.Legend at 0x114194d30>"
      ]
     },
     "execution_count": 11,
     "metadata": {},
     "output_type": "execute_result"
    },
    {
     "data": {
      "image/png": "[encoded data removed]",
      "text/plain": [
       "<Figure size 432x288 with 1 Axes>"
      ]
     },
     "metadata": {
      "needs_background": "light"
     },
     "output_type": "display_data"
    }
   ],
   "source": [
    "(inspections2\n",
    " .groupby(['year', 'Inspection Type'])\n",
    " .size()\n",
    " .unstack()\n",
    " .plot.bar(stacked=True)\n",
    ")\n",
    "\n",
    "plt.xlabel(\"Year\")\n",
    "plt.ylabel(\"Number of Food Inspections by Type\")\n",
    "plt.title(\"Number of Food Inspections by Year and Type\")\n",
    "plt.legend(inspections2[\"Inspection Type\"].unique(), loc='center left', bbox_to_anchor=(1, 0.5))"
   ]
  },
  {
   "cell_type": "code",
   "execution_count": 12,
   "metadata": {},
   "outputs": [
    {
     "data": {
      "text/plain": [
       "Text(0.5, 1.0, 'Number of Food Inspections by Results Type')"
      ]
     },
     "execution_count": 12,
     "metadata": {},
     "output_type": "execute_result"
    },
    {
     "data": {
      "image/png": "[encoded data removed]",
      "text/plain": [
       "<Figure size 432x288 with 1 Axes>"
      ]
     },
     "metadata": {
      "needs_background": "light"
     },
     "output_type": "display_data"
    }
   ],
   "source": [
    "inspections[\"Results\"].value_counts().plot(kind=\"bar\")\n",
    "plt.xlabel(\"Results\")\n",
    "plt.ylabel(\"Count\")\n",
    "plt.title(\"Number of Food Inspections by Results Type\")"
   ]
  },
  {
   "cell_type": "markdown",
   "metadata": {},
   "source": [
    "## Exploring 2018 Food Inspection Results with an Interactive Dashboard\n",
    "\n",
    "Since there are 462 facility types in the original dataset, and any visualization featuring all 462 types would be challenging to decipher, subsequent visualizations will use a dataset using data from the top 5 facility types:\n",
    "\n",
    "* Restaurant\n",
    "* Grocery Store\n",
    "* School\n",
    "* Children's Services Facility\n",
    "* Bakery\n",
    "\n",
    "It should also be noted that since the original dataset spans a fairly wide time frame, and some of the business are closed, the visualizations presented here will only organizations that received one of the following results:\n",
    "\n",
    "* Pass: This means there were no priority or priority foundation violations noted during the inspection.\n",
    "* Pass with Conditions: This means there were one or more priority or priority foundation violations identified, but all of them were corrected onsite.\n",
    "* Fail: This means one or more priority or priority foundation violations were identified that could not be corrected during the inspection.\n",
    "\n",
    "Using only the food inspections from 2018, I created an interactive dashboard that shows the number of food inspections by the top 5 facility types and the results.\n",
    "\n",
    "By clicking on a cell of the heatmap, you will see a plot of the location of facilities that fall within that category. For instance, if you would like to see which restaurants failed their inspections in 2018, click on the appropriate cell on the heatmap and a scatterplot will show up on the right. When you hover over a point in the scatterplot, you will see the name, address, and risk level of that specific facility. \n",
    "\n",
    "The risk level is used to determine how often the facility should be inspected:\n",
    "\n",
    "* Risk 1 facilities are inspected 1-2 times per year\n",
    "* Risk 2 facilities are inspected once a year\n",
    "* Risk 3 facilities are inspected every other year\n",
    "\n",
    "Given this distinction between the risk categories, it is most important to know which facilities are marked with Risk 1, because while they have passed their inspection, they are the riskiest facilities in terms of food safety and public health and are inspected more frequently. "
   ]
  },
  {
   "cell_type": "code",
   "execution_count": 13,
   "metadata": {},
   "outputs": [],
   "source": [
    "# Variables for the heatmap\n",
    "\n",
    "x = inspections_top5_2018['Results']\n",
    "y = inspections_top5_2018['Facility Type']\n",
    "z = inspections_top5_2018['Results']"
   ]
  },
  {
   "cell_type": "code",
   "execution_count": 14,
   "metadata": {},
   "outputs": [],
   "source": [
    "xnames = x.unique()\n",
    "ynames = y.unique()\n",
    "znames = np.zeros([len(xnames),len(ynames)])\n",
    "\n",
    "# Loop and fill\n",
    "for i,xn in enumerate(xnames):\n",
    "   for j, yn in enumerate(ynames):\n",
    "       mask = (x == xn) & (y == yn)\n",
    "       znames[i,j] = z[mask].value_counts()"
   ]
  },
  {
   "cell_type": "code",
   "execution_count": 15,
   "metadata": {},
   "outputs": [],
   "source": [
    "# Variables for the scatterplot\n",
    "\n",
    "long = inspections_top5_2018[\"Longitude\"]\n",
    "lat = inspections_top5_2018[\"Latitude\"]\n",
    "risks = inspections_top5_2018[\"Risk\"]\n",
    "names = inspections_top5_2018[\"DBA Name\"]\n",
    "addresses = inspections_top5_2018[\"Address\"]"
   ]
  },
  {
   "cell_type": "code",
   "execution_count": 18,
   "metadata": {},
   "outputs": [
    {
     "data": {
      "application/vnd.jupyter.widget-view+json": {
       "model_id": "3459775aca714e19a12597ff68726936",
       "version_major": 2,
       "version_minor": 0
      },
      "text/plain": [
       "VBox(children=(Label(value=''), HBox(children=(Figure(axes=[Axis(label='Facility Type', scale=OrdinalScale(), …"
      ]
     },
     "metadata": {},
     "output_type": "display_data"
    }
   ],
   "source": [
    "# Grammar of Graphics\n",
    "# PART I: HEATMAP\n",
    "# Scales\n",
    "x_sc = bqplot.OrdinalScale()\n",
    "y_sc = bqplot.OrdinalScale()\n",
    "col_sc = bqplot.ColorScale(scheme=\"Blues\")\n",
    "\n",
    "# Axes\n",
    "x_ax = bqplot.Axis(scale=x_sc, \n",
    "                   label='Facility Type',\n",
    "                   tick_rotate=-30,\n",
    "                   tick_style={'tick-offset':'10px', 'text-anchor':'middle'})\n",
    "y_ax = bqplot.Axis(scale=y_sc, orientation='vertical',\n",
    "                   label='Results')\n",
    "c_ax = bqplot.ColorAxis(scale=col_sc, orientation='vertical', side='right')\n",
    "\n",
    "# Marks\n",
    "heat_map = bqplot.GridHeatMap(color=znames,\n",
    "                              row=xnames,\n",
    "                              column=ynames,\n",
    "                             scales = {'row':y_sc,\n",
    "                                      'column':x_sc,\n",
    "                                      'color':col_sc},\n",
    "                             interactions = {'click':'select'},\n",
    "                             anchor_style = {'fill':'gray'},\n",
    "                              selected_style = {'opacity':1.0},\n",
    "                              unselected_style = {'opacity':0.8}\n",
    "                             )\n",
    "\n",
    "# Create figure\n",
    "fig_heatmap = bqplot.Figure(marks=[heat_map], axes=[x_ax, y_ax, c_ax],\n",
    "                   title=\"Results by Facility Type\")\n",
    "\n",
    "# PART II: SCATTERPLOT\n",
    "# Scales \n",
    "x_sc2 = bqplot.LinearScale()\n",
    "y_sc2 = bqplot.LinearScale()\n",
    "c_sc2 = bqplot.OrdinalColorScale(domain=risks.unique().tolist(), \n",
    "                               colors=bqplot.CATEGORY10[:4])\n",
    "\n",
    "# Axes\n",
    "x_ax2 = bqplot.Axis(scale=x_sc2, \n",
    "                    label='Longitude')\n",
    "y_ax2 = bqplot.Axis(scale=y_sc2, label='Latitude', orientation='vertical')\n",
    "c_ax2 = bqplot.ColorAxis(scale=c_sc2, \n",
    "                         label=\"Risk\", \n",
    "                         orientation=\"vertical\",\n",
    "                         side=\"right\")\n",
    "\n",
    "# Tooltip\n",
    "# create names for each lat & long x/y positions\n",
    "infos = []\n",
    "for i in range(len(long)):\n",
    "    infos.append(\"Business Name: \" + names[i] +\n",
    "                 \", Address: \" + addresses[i] +\n",
    "                 \", \" + risks[i])\n",
    "tt = bqplot.Tooltip( fields = ['name'], labels =['Info'], show_labels=False)\n",
    "\n",
    "\n",
    "# Marks\n",
    "# Scatters:\n",
    "scatters = bqplot.Scatter(x=long, \n",
    "                          y=lat, \n",
    "                          color=risks,\n",
    "                          names=infos,\n",
    "                          scales={'x':x_sc2, 'y':y_sc2, 'color':c_sc2},\n",
    "                          tooltip=tt, \n",
    "                          display_names=False\n",
    "                         )\n",
    "\n",
    "# Create figure\n",
    "fig_scatters = bqplot.Figure(title=\"Location of Facilities\", \n",
    "                    marks=[scatters], axes=[x_ax2,y_ax2, c_ax2])\n",
    "\n",
    "# Label\n",
    "mySelectedLabel = ipywidgets.Label()\n",
    "\n",
    "# Linking Function\n",
    "def get_data_value2(change):\n",
    "    i,j = change['owner'].selected[0]\n",
    "    v = znames[i,j]\n",
    "    mySelectedLabel.value = 'Total number of inspections = ' + str(v)\n",
    "\n",
    "    mask = ( (inspections_top5_2018[\"Results\"].values==xnames[i]) & \n",
    "            (inspections_top5_2018[\"Facility Type\"].values==ynames[j]) )\n",
    "\n",
    "    scatters.x = long[mask]\n",
    "    scatters.y = lat[mask]\n",
    "\n",
    "heat_map.observe(get_data_value2, 'selected')\n",
    "\n",
    "ipywidgets.VBox([mySelectedLabel, ipywidgets.HBox([fig_heatmap,fig_scatters])])"
   ]
  },
  {
   "cell_type": "markdown",
   "metadata": {},
   "source": [
    "## Conclusion\n",
    "\n",
    "In conclusion, the dashboard shows that there is not a specific area of the city where facilities are more likely to pass or fail the inspections; rather, the results are pretty evenly spread across the city. \n",
    "\n",
    "### Future Improvements for the Visualizations\n",
    "The dataset documentation notates that there are 45 distinct violations, all of which are listed within one field within the dataset. In another iteration of this project, I would like to parse through the violations to determine which is most frequent. Additionally, I would have liked to spend more time cleaning the dataset before attempting to plot anything. For instance, the Inspection Type field is particularly messy, and it would have been beneficial to clean all of the records so the plots were more accurate. "
   ]
  },
  {
   "cell_type": "markdown",
   "metadata": {},
   "source": [
    "## Resources\n",
    "* Food Inspections, Chicago Department of Public Health's Food Protection Program. Chicago Data Portal. Accessed April 1, 2019. URL: https://data.cityofchicago.org/Health-Human-Services/Food-Inspections/4ijn-s7e5 \n",
    "* \"Understand Health Code Requirements for Food Establishments.\" City of Chicago. Accessed April 19, 2019. URL: https://www.chicago.gov/city/en/depts/cdph/provdrs/healthy_restaurants/svcs/understand_healthcoderequirementsforfoodestablishments.html\n",
    "* \"Food Protection Services.\" City of Chicago. Accessed April 19, 2019. URL: https://www.chicago.gov/city/en/depts/cdph/provdrs/healthy_restaurants/svcs/food-protection-services.html\n",
    "* \"Chicago Food Code Major Changes.\" City of Chicago. Accessed April 19, 2019. URL: https://www.chicago.gov/content/dam/city/depts/cdph/food_env/general/Food_Protection/2019_ChicagoFoodCodeMajorChanges.pdf\n",
    "* \"Food Inspections.\" City of Chicago. Accessed April 19, 2019. URL: https://data.cityofchicago.org/api/assets/BAD5301B-681A-4202-9D25-51B2CAE672FF\n",
    "* \"Food Protection Program: Frequently Asked Questions.\" Chicago Department of Public Health. Accessed April 19, 2019. https://www.chicago.gov/content/dam/city/depts/cdph/food_env/general/Food_Protection/Inspection_FAQ_2019.pdf"
   ]
  }
 ],
 "metadata": {
  "kernelspec": {
   "display_name": "Python 3",
   "language": "python",
   "name": "python3"
  },
  "language_info": {
   "codemirror_mode": {
    "name": "ipython",
    "version": 3
   },
   "file_extension": ".py",
   "mimetype": "text/x-python",
   "name": "python",
   "nbconvert_exporter": "python",
   "pygments_lexer": "ipython3",
   "version": "3.6.8"
  }
 },
 "nbformat": 4,
 "nbformat_minor": 2
}
